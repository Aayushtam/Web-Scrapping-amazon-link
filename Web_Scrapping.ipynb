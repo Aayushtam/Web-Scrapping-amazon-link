{
 "cells": [
  {
   "cell_type": "markdown",
   "id": "5ab1fbac",
   "metadata": {},
   "source": [
    "# Import the Libraries"
   ]
  },
  {
   "cell_type": "code",
   "execution_count": null,
   "id": "3ec59ed1",
   "metadata": {},
   "outputs": [],
   "source": [
    "import requests\n",
    "from bs4 import BeautifulSoup\n",
    "import pandas as pd"
   ]
  },
  {
   "cell_type": "markdown",
   "id": "e6a77f7e",
   "metadata": {},
   "source": [
    "# get the response from url"
   ]
  },
  {
   "cell_type": "code",
   "execution_count": null,
   "id": "b3f1944b",
   "metadata": {},
   "outputs": [],
   "source": [
    "url = \"https://www.amazon.in/s?rh=n%3A6612025031&fs=true&ref=lp_6612025031_sar\"\n",
    "r = requests.get(url)"
   ]
  },
  {
   "cell_type": "markdown",
   "id": "f4a069e3",
   "metadata": {},
   "source": [
    "## print the response to check whether it is 200 or not "
   ]
  },
  {
   "cell_type": "code",
   "execution_count": null,
   "id": "0c2244bf",
   "metadata": {},
   "outputs": [],
   "source": [
    "print(r)"
   ]
  },
  {
   "cell_type": "markdown",
   "id": "62897cf8",
   "metadata": {},
   "source": [
    "## retrieve the html content"
   ]
  },
  {
   "cell_type": "code",
   "execution_count": null,
   "id": "e0a28088",
   "metadata": {},
   "outputs": [],
   "source": [
    "soup = BeautifulSoup(r.content, \"html.parser\")"
   ]
  },
  {
   "cell_type": "markdown",
   "id": "dc6b7a4e",
   "metadata": {},
   "source": [
    "## adding product names in list  "
   ]
  },
  {
   "cell_type": "code",
   "execution_count": null,
   "id": "532909dc",
   "metadata": {},
   "outputs": [],
   "source": [
    "names = soup.find_all(\"span\", class_= \"a-size-base-plus a-color-base a-text-normal\")"
   ]
  },
  {
   "cell_type": "code",
   "execution_count": null,
   "id": "1dd079e5",
   "metadata": {},
   "outputs": [],
   "source": [
    "product_name = []\n",
    "for i in names:\n",
    "  name = i.text\n",
    "  product_name.append(name)"
   ]
  },
  {
   "cell_type": "markdown",
   "id": "5a68bc63",
   "metadata": {},
   "source": [
    "## adding prices in list"
   ]
  },
  {
   "cell_type": "code",
   "execution_count": null,
   "id": "c0bbb866",
   "metadata": {},
   "outputs": [],
   "source": [
    "prices = soup.find_all(\"span\", class_= \"a-price-whole\")"
   ]
  },
  {
   "cell_type": "code",
   "execution_count": null,
   "id": "9c5ed7c8",
   "metadata": {},
   "outputs": [],
   "source": [
    "Price = []\n",
    "for i in prices:\n",
    "  price = i.text\n",
    "  Price.append(price)"
   ]
  },
  {
   "cell_type": "markdown",
   "id": "6abf73bd",
   "metadata": {},
   "source": [
    "## adding ratings in list"
   ]
  },
  {
   "cell_type": "code",
   "execution_count": null,
   "id": "e1438afa",
   "metadata": {},
   "outputs": [],
   "source": [
    "ratings = soup.find_all(\"span\", {\"class\": \"a-size-base s-underline-text\"})"
   ]
  },
  {
   "cell_type": "code",
   "execution_count": null,
   "id": "be09c6f4",
   "metadata": {},
   "outputs": [],
   "source": [
    "Rating = []\n",
    "for i in ratings:\n",
    "  rating = i.text\n",
    "  Rating.append(rating)\n",
    "Rating = [num.replace('(', '').replace(')', '') for num in Rating]"
   ]
  },
  {
   "cell_type": "markdown",
   "id": "7dac106d",
   "metadata": {},
   "source": [
    "## adding seller name in list"
   ]
  },
  {
   "cell_type": "code",
   "execution_count": null,
   "id": "524e7693",
   "metadata": {},
   "outputs": [],
   "source": [
    "a = soup.find_all(\"a\", {'class': 'a-link-normal s-underline-text s-underline-link-text s-link-style a-text-normal'}, href=True)\n",
    "urls = []\n",
    "for i in a:\n",
    "  urls.append(\"https://www.amazon.in\" + i['href'])\n"
   ]
  },
  {
   "cell_type": "code",
   "execution_count": null,
   "id": "f2f637ca",
   "metadata": {},
   "outputs": [],
   "source": [
    "Seller_name = []\n",
    "for url in urls:\n",
    "  response = requests.get(url)\n",
    "  soup = BeautifulSoup(response.content, \"html.parser\")\n",
    "  b = soup.find_all('div', {'id' : 'merchant-info'})\n",
    "  for i in b:\n",
    "    sellername = i.text\n",
    "    Seller_name.append(sellername)\n",
    "Seller_name = [string.strip() for string in Seller_name if string.strip()]"
   ]
  },
  {
   "cell_type": "markdown",
   "id": "601f7987",
   "metadata": {},
   "source": [
    "## creating a dataframe"
   ]
  },
  {
   "cell_type": "code",
   "execution_count": null,
   "id": "26b78885",
   "metadata": {},
   "outputs": [],
   "source": [
    "op = {\n",
    "    'Product Name' : product_name,\n",
    "    'Price' : Price,\n",
    "    'Ratings' : Rating,\n",
    "    'Seller Name' : Seller_list\n",
    "}\n",
    "\n",
    "df = pd.DataFrame(op, columns=['Product Name', 'Price', 'Ratings', 'Seller Name'])\n",
    "print(df)"
   ]
  },
  {
   "cell_type": "markdown",
   "id": "0b65c287",
   "metadata": {},
   "source": [
    "## converting to csv"
   ]
  },
  {
   "cell_type": "code",
   "execution_count": null,
   "id": "60b6cea3",
   "metadata": {},
   "outputs": [],
   "source": [
    "df.to_csv('output.csv', index=False)"
   ]
  }
 ],
 "metadata": {
  "kernelspec": {
   "display_name": "Python 3 (ipykernel)",
   "language": "python",
   "name": "python3"
  },
  "language_info": {
   "codemirror_mode": {
    "name": "ipython",
    "version": 3
   },
   "file_extension": ".py",
   "mimetype": "text/x-python",
   "name": "python",
   "nbconvert_exporter": "python",
   "pygments_lexer": "ipython3",
   "version": "3.9.13"
  }
 },
 "nbformat": 4,
 "nbformat_minor": 5
}
