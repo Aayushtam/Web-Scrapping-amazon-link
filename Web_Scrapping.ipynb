{
 "cells": [
  {
   "cell_type": "markdown",
   "id": "5ab1fbac",
   "metadata": {},
   "source": [
    "# Import the Libraries"
   ]
  },
  {
   "cell_type": "code",
   "execution_count": 1,
   "id": "3ec59ed1",
   "metadata": {},
   "outputs": [],
   "source": [
    "import requests\n",
    "from bs4 import BeautifulSoup\n",
    "import pandas as pd"
   ]
  },
  {
   "cell_type": "markdown",
   "id": "e6a77f7e",
   "metadata": {},
   "source": []
  },
  {
   "cell_type": "code",
   "execution_count": 21,
   "id": "b3f1944b",
   "metadata": {},
   "outputs": [],
   "source": [
    "url = \"https://www.amazon.in/s?rh=n%3A6612025031&fs=true&ref=lp_6612025031_sar\"\n",
    "r = requests.get(url)"
   ]
  },
  {
   "cell_type": "code",
   "execution_count": 22,
   "id": "0c2244bf",
   "metadata": {},
   "outputs": [
    {
     "name": "stdout",
     "output_type": "stream",
     "text": [
      "<Response [200]>\n"
     ]
    }
   ],
   "source": [
    "print(r)"
   ]
  },
  {
   "cell_type": "code",
   "execution_count": 23,
   "id": "e0a28088",
   "metadata": {},
   "outputs": [],
   "source": [
    "soup = BeautifulSoup(r.content, \"html.parser\")"
   ]
  },
  {
   "cell_type": "code",
   "execution_count": 24,
   "id": "532909dc",
   "metadata": {},
   "outputs": [],
   "source": [
    "names = soup.find_all(\"span\", class_= \"a-size-base-plus a-color-base a-text-normal\")"
   ]
  },
  {
   "cell_type": "code",
   "execution_count": 25,
   "id": "1dd079e5",
   "metadata": {},
   "outputs": [],
   "source": [
    "product_name = []\n",
    "for i in names:\n",
    "  name = i.text\n",
    "  product_name.append(name)"
   ]
  },
  {
   "cell_type": "code",
   "execution_count": 26,
   "id": "cde9ff08",
   "metadata": {},
   "outputs": [
    {
     "name": "stdout",
     "output_type": "stream",
     "text": [
      "24 ['MI Power Bank 3i 20000mAh Lithium Polymer 18W Fast Power Delivery Charging | Input- Type C | Micro USB| Triple Output | Sandstone Black', 'Mi 10000mAH Li-Polymer, Micro-USB and Type C Input Port, Power Bank 3i with 18W Fast Charging (Midnight Black)', 'MI 10000mAh Lithium Ion, Lithium Polymer Power Bank Pocket Pro with 22.5 Watt Fast Charging, Dual Input Ports(Micro-USB and Type C), Triple Output Ports, (Black)', 'Ambrane 10000 mAh Lithium Polymer Stylo-10k Power Bank with 20 Watt Fast Charging, 1 USB and Type C Port,Blue', 'Ambrane 20000mAh Power Bank, 20W Fast Charging, Tripe Output, Type C PD (Input & Output), Quick Charge, Li-Polymer, Multi-Layer Protection for iPhone, Smartphones & Other Devices (Stylo 20K, Blue)', 'Duracell Power Bank 20000 mAh, Portable Charger, USB C/Micro USB Input, USB A/USB C Output, Fast Charge Technology, 22.5W Power Delivery for Smartphones, Tablets, Headphones and USB-Powered Devices', 'MI 10000mAh 3i Lithium Polymer Power Bank Dual Input(Micro-USB and Type C) and Output Ports 18W Fast Charging (Metallic Blue)', 'Spigen Lithium Polymer 10000 mAh 3 in 1 Wireless Charging Power Bank with USB-A | USB-C 20W Fast Charging - Black', 'Ambrane 10000mAh Slim Power Bank, 20W Fast Charging, Dual Output, Type C PD (Input & Output), Quick Charge, Li-Polymer, Multi-Layer Protection for iPhone, Anrdoid & Other Devices (Stylo 10K, Green)', 'Ambrane 10000mAh Slim Power Bank, 20W Fast Charging, Dual Output, Type C PD (Input & Output), Quick Charge, Li-Polymer, Multi-Layer Protection for iPhone, Anrdoid & Other Devices (Stylo 10K, Black)', 'Ambrane 27000mAh Power Bank, 20W Fast Charging, Triple Output, Type C PD (Input & Output), Quick Charge, Li-Polymer, Multi-Layer Protection for iPhone, Smartphones & Other Devices (Stylo Pro, Green)', 'Ambrane 20000mAh Power Bank with 20W Fast Charging, Triple Output, Power Delivery, Type C Input, Made in India, Multi-Layer Protection, Li-Polymer + Type C Cable (Stylo-20k, Black)', 'URBN 10000 mAh Li-Polymer Ultra Compact Power Bank | 12W Fast Charge | Dual USB Output | Type C | Micro Input | Pocket Size (Camo)', 'Duracell Power Bank 10000 mAh, Portable Charger, USB C/Micro USB Input, USB A/USB C Output, Fast Charge Technology, 22.5W Power Delivery for Smartphones, Tablets, Headphones and USB-Powered Devices', 'URBN 20000 mAh Li-Polymer Ultra Compact Power Bank | 12W Fast Charge | Dual USB Output | Type C & Micro Input Only | Pocket Size | Made in India (Camo)', 'Ambrane 20000 mAh Lithium Polymer Stylo-20k Power Bank with 20 Watt Fast Charging, 2 USB,Type C Port,Green', 'Redmi 20000mAh Li-Polymer Power Bank, USB Type C and Micro USB Ports, 18W Fast Charging, Low Power Mode, Black', 'Redmi Lithiumpolymer 10000 Mah Fast Charging Slim Power Bank (Black, 10W Fast Charging, Dual Ports)', 'Ambrane 27000mAh Power Bank, 20W Fast Charging, Triple Output, Type C PD (Input & Output), Quick Charge, Li-Polymer, Multi-Layer Protection for iPhone, Smartphones & Other Devices (Stylo Pro, Black)', 'URBN 10000 mAh Lithium Power Bank UPR10K with 12 Watt Fast Charging, Blue', 'URBN 10000 mAh Lithium_Polymer 22.5W Super Fast Charging Ultra Compact Power Bank with Quick Charge & Power Delivery, Type C Input/Output, Made in India, Type C Cable Included (Camo)', 'URBN 20000 mAh Li-Polymer Ultra Compact Power Bank | 12W Fast Charge | Dual USB Output | Type C & Micro Input Only | Pocket Size | Made in India (Blue)', 'Ambrane 10000mAh Magnetic Wireless Power Bank for iPhone 12 & Above, 22.5W Wired + 15W Wireless Charging, Mobile Stand, Type C PD (Input & Output), Li-Polymer (Aerosync PB 10, Black)', 'URBN 20000 mAh Lithium_Polymer 22.5W Super Fast Charging Ultra Compact Power Bank with Quick Charge & Power Delivery, Type C Input/Output, Made in India, Type C Cable Included (Camo)']\n"
     ]
    }
   ],
   "source": [
    "print(len(product_name), product_name)"
   ]
  },
  {
   "cell_type": "code",
   "execution_count": 27,
   "id": "c0bbb866",
   "metadata": {},
   "outputs": [
    {
     "name": "stdout",
     "output_type": "stream",
     "text": [
      "[<span class=\"a-price-whole\">2,099</span>, <span class=\"a-price-whole\">1,299</span>, <span class=\"a-price-whole\">1,699</span>, <span class=\"a-price-whole\">949</span>, <span class=\"a-price-whole\">1,799</span>, <span class=\"a-price-whole\">2,522</span>, <span class=\"a-price-whole\">1,299</span>, <span class=\"a-price-whole\">2,399</span>, <span class=\"a-price-whole\">999</span>, <span class=\"a-price-whole\">999</span>, <span class=\"a-price-whole\">2,250</span>, <span class=\"a-price-whole\">1,799</span>, <span class=\"a-price-whole\">999</span>, <span class=\"a-price-whole\">1,649</span>, <span class=\"a-price-whole\">1,499</span>, <span class=\"a-price-whole\">1,799</span>, <span class=\"a-price-whole\">1,999</span>, <span class=\"a-price-whole\">1,199</span>, <span class=\"a-price-whole\">2,299</span>, <span class=\"a-price-whole\">999</span>, <span class=\"a-price-whole\">1,299</span>, <span class=\"a-price-whole\">1,499</span>, <span class=\"a-price-whole\">1,999</span>, <span class=\"a-price-whole\">1,999</span>]\n"
     ]
    }
   ],
   "source": [
    "prices = soup.find_all(\"span\", class_= \"a-price-whole\")\n",
    "print(prices)"
   ]
  },
  {
   "cell_type": "code",
   "execution_count": 28,
   "id": "a13709e2",
   "metadata": {},
   "outputs": [],
   "source": [
    "Price = []\n",
    "for i in prices:\n",
    "  price = i.text\n",
    "  Price.append(price)"
   ]
  },
  {
   "cell_type": "code",
   "execution_count": 29,
   "id": "73e04d93",
   "metadata": {},
   "outputs": [
    {
     "name": "stdout",
     "output_type": "stream",
     "text": [
      "24 ['2,099', '1,299', '1,699', '949', '1,799', '2,522', '1,299', '2,399', '999', '999', '2,250', '1,799', '999', '1,649', '1,499', '1,799', '1,999', '1,199', '2,299', '999', '1,299', '1,499', '1,999', '1,999']\n"
     ]
    }
   ],
   "source": [
    "print(len(Price),Price)"
   ]
  },
  {
   "cell_type": "code",
   "execution_count": 30,
   "id": "e1438afa",
   "metadata": {},
   "outputs": [
    {
     "name": "stdout",
     "output_type": "stream",
     "text": [
      "[<span class=\"a-size-base s-underline-text\">(136,901)</span>, <span class=\"a-size-base s-underline-text\">(136,901)</span>, <span class=\"a-size-base s-underline-text\">(17,115)</span>, <span class=\"a-size-base s-underline-text\">(8,704)</span>, <span class=\"a-size-base s-underline-text\">(20,129)</span>, <span class=\"a-size-base s-underline-text\">(17)</span>, <span class=\"a-size-base s-underline-text\">(136,901)</span>, <span class=\"a-size-base s-underline-text\">(2,752)</span>, <span class=\"a-size-base s-underline-text\">(8,704)</span>, <span class=\"a-size-base s-underline-text\">(8,704)</span>, <span class=\"a-size-base s-underline-text\">(3,783)</span>, <span class=\"a-size-base s-underline-text\">(20,129)</span>, <span class=\"a-size-base s-underline-text\">(37,400)</span>, <span class=\"a-size-base s-underline-text\">(11)</span>, <span class=\"a-size-base s-underline-text\">(37,400)</span>, <span class=\"a-size-base s-underline-text\">(20,129)</span>, <span class=\"a-size-base s-underline-text\">(36,629)</span>, <span class=\"a-size-base s-underline-text\">(36,629)</span>, <span class=\"a-size-base s-underline-text\">(3,783)</span>, <span class=\"a-size-base s-underline-text\">(37,400)</span>, <span class=\"a-size-base s-underline-text\">(9,144)</span>, <span class=\"a-size-base s-underline-text\">(37,400)</span>, <span class=\"a-size-base s-underline-text\">(223)</span>, <span class=\"a-size-base s-underline-text\">(9,144)</span>]\n"
     ]
    }
   ],
   "source": [
    "ratings = soup.find_all(\"span\", {\"class\": \"a-size-base s-underline-text\"})\n",
    "print(ratings)"
   ]
  },
  {
   "cell_type": "code",
   "execution_count": 31,
   "id": "be09c6f4",
   "metadata": {},
   "outputs": [
    {
     "name": "stdout",
     "output_type": "stream",
     "text": [
      "24 ['136,901', '136,901', '17,115', '8,704', '20,129', '17', '136,901', '2,752', '8,704', '8,704', '3,783', '20,129', '37,400', '11', '37,400', '20,129', '36,629', '36,629', '3,783', '37,400', '9,144', '37,400', '223', '9,144']\n"
     ]
    }
   ],
   "source": [
    "Rating = []\n",
    "for i in ratings:\n",
    "  rating = i.text\n",
    "  Rating.append(rating)\n",
    "Rating = [num.replace('(', '').replace(')', '') for num in Rating]\n",
    "    \n",
    "print(len(Rating),Rating)"
   ]
  },
  {
   "cell_type": "code",
   "execution_count": 32,
   "id": "524e7693",
   "metadata": {},
   "outputs": [
    {
     "name": "stdout",
     "output_type": "stream",
     "text": [
      "['https://www.amazon.in/20000mAh-Sandstone-Triple-Charging-Delivery/dp/B08HV83HL3', 'https://www.amazon.in/10000mAH-Li-Polymer-Power-Charging-Midnight/dp/B08HVL8QN3', 'https://www.amazon.in/Pocket-10000mAh-Triple-Charging-Delivery/dp/B08MC57J31', 'https://www.amazon.in/Ambrane-Multi-Layer-Protection-Li-Polymer-Stylo-10k/dp/B09CTV93G5', 'https://www.amazon.in/Ambrane-Multi-Layer-Protection-Li-Polymer-Stylo-20k/dp/B09MZDVQCC', 'https://www.amazon.in/Duracell-Technology-Smartphones-Headphones-USB-Powered/dp/B0BJV4L36G', 'https://www.amazon.in/Power-10000mAh-Metallic-Output-Charging/dp/B08HVJCW95', 'https://www.amazon.in/Spigen-Lithium-Polymer-Wireless-Charging/dp/B09K3H4FQB', 'https://www.amazon.in/Ambrane-Multi-Layer-Protection-Li-Polymer-Stylo-10k/dp/B09MZCQYHZ', 'https://www.amazon.in/Ambrane-Multi-Layer-Protection-Li-Polymer-Stylo-10k/dp/B0993BB11X', 'https://www.amazon.in/Ambrane-Multi-Layer-Protection-Li-Polymer-Stylo/dp/B098QV28F7', 'https://www.amazon.in/Ambrane-20000mAh-Lithium-Polymer-Stylo-20K/dp/B07RD611Z8', 'https://www.amazon.in/URBN-Li-Polymer-Heroes-Compact-Certification/dp/B07X83RT1K', 'https://www.amazon.in/Duracell-Technology-Smartphones-Headphones-USB-Powered/dp/B0BJV59X3P', 'https://www.amazon.in/URBN-20000-Li-Polymer-Compact-Charge/dp/B08HF4W2CT', 'https://www.amazon.in/Ambrane-Multi-Layer-Protection-Li-Polymer-Stylo-20k/dp/B09779CSV6', 'https://www.amazon.in/Redmi-20000mAh-Li-Polymer-Power-Charging/dp/B0851WWXJC', 'https://www.amazon.in/Redmi-10000-Charging-Power-Black/dp/B0851WMSDS', 'https://www.amazon.in/Ambrane-Multi-Layer-Protection-Li-Polymer-Stylo/dp/B098QXR9X2', 'https://www.amazon.in/URBN-Li-Polymer-Charge-Compact-Certification/dp/B07X963JNS', 'https://www.amazon.in/URBN-10000-22-5W-Charging-Output/dp/B08JVY8LGD', 'https://www.amazon.in/URBN-Li-Polymer-Charge-Compact-Certification/dp/B07X6JCTR2', 'https://www.amazon.in/Ambrane-10000mAh-Magnetic-Wireless-Li-Polymer/dp/B0BLZ2K1Z8', 'https://www.amazon.in/URBN-20000-22-5W-Charging-Output/dp/B08JW1GVS7']\n"
     ]
    }
   ],
   "source": [
    "a = soup.find_all(\"a\", {'class': 'a-link-normal s-underline-text s-underline-link-text s-link-style a-text-normal'}, href=True)\n",
    "urls = []\n",
    "for i in a:\n",
    "  urls.append(\"https://www.amazon.in\" + i['href'])\n",
    "print(urls)"
   ]
  },
  {
   "cell_type": "code",
   "execution_count": 33,
   "id": "261dfeea",
   "metadata": {},
   "outputs": [
    {
     "name": "stdout",
     "output_type": "stream",
     "text": [
      "24\n"
     ]
    }
   ],
   "source": [
    "print(len(urls))"
   ]
  },
  {
   "cell_type": "code",
   "execution_count": 55,
   "id": "f2f637ca",
   "metadata": {},
   "outputs": [
    {
     "name": "stdout",
     "output_type": "stream",
     "text": [
      "[' Sold by Cocoblu Retail and Fulfilled by Amazon. \\n\\n']\n"
     ]
    }
   ],
   "source": [
    "Seller_name = []\n",
    "for url in urls:\n",
    "  response = requests.get(url)\n",
    "  soup = BeautifulSoup(response.content, \"html.parser\")\n",
    "  b = soup.find_all('div', {'id' : 'merchant-info'})\n",
    "  for i in b:\n",
    "    sellername = i.text\n",
    "    Seller_name.append(sellername)\n",
    "print(Seller_name)"
   ]
  },
  {
   "cell_type": "code",
   "execution_count": 56,
   "id": "7eba45b5",
   "metadata": {},
   "outputs": [
    {
     "name": "stdout",
     "output_type": "stream",
     "text": [
      "1\n"
     ]
    }
   ],
   "source": [
    "cleaned_list = [string.strip() for string in Seller_name if string.strip()]\n",
    "\n",
    "print(len(cleaned_list))"
   ]
  },
  {
   "cell_type": "code",
   "execution_count": 17,
   "id": "b9350cb0",
   "metadata": {},
   "outputs": [
    {
     "name": "stdout",
     "output_type": "stream",
     "text": [
      "Empty DataFrame\n",
      "Columns: [Product Name, Price, Ratings, Seller Name]\n",
      "Index: []\n"
     ]
    }
   ],
   "source": [
    "op = {\n",
    "    'Product Name' : product_name,\n",
    "    'Price' : Price,\n",
    "    'Ratings' : Rating,\n",
    "    'Seller Name' : cleaned_list\n",
    "}\n",
    "\n",
    "df = pd.DataFrame(op, columns=['Product Name', 'Price', 'Ratings', 'Seller Name'])\n",
    "print(df)"
   ]
  },
  {
   "cell_type": "code",
   "execution_count": 18,
   "id": "60b6cea3",
   "metadata": {},
   "outputs": [],
   "source": [
    "df.to_csv('output.csv', index=False)"
   ]
  },
  {
   "cell_type": "code",
   "execution_count": null,
   "id": "3f00366b",
   "metadata": {},
   "outputs": [],
   "source": []
  },
  {
   "cell_type": "code",
   "execution_count": null,
   "id": "bf109adf",
   "metadata": {},
   "outputs": [],
   "source": []
  }
 ],
 "metadata": {
  "kernelspec": {
   "display_name": "Python 3 (ipykernel)",
   "language": "python",
   "name": "python3"
  },
  "language_info": {
   "codemirror_mode": {
    "name": "ipython",
    "version": 3
   },
   "file_extension": ".py",
   "mimetype": "text/x-python",
   "name": "python",
   "nbconvert_exporter": "python",
   "pygments_lexer": "ipython3",
   "version": "3.9.13"
  }
 },
 "nbformat": 4,
 "nbformat_minor": 5
}
